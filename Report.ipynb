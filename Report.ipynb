{
 "cells": [
  {
   "cell_type": "markdown",
   "metadata": {},
   "source": [
    "# Introduction\n",
    "Every city has a lot of restaurants, but still there is always scope for new ones. Selecting the best suitable location is the most important factor for a restaurant to flourish. It should be set up in a location that has the target population and has other advantages such as little or no competition. \n",
    "\n",
    "This solution will be helpful for anyone looking to open an Asian cuisine restaurant in the city of New York. The objective of the solution is to find a location that suits the below criteria.\n",
    "\n",
    "1. A location that has more number of restaurants as that implies a good demand for restaurants. \n",
    "2. A location that has no or few Asian cuisine restaurants, as this will ensure that there is no incumbent player or very little competition."
   ]
  },
  {
   "cell_type": "markdown",
   "metadata": {},
   "source": [
    "# Data\n",
    "\n",
    "The data that will be used in this solution is from a json file available at <a href='https://ibm.box.com/shared/static/fbpwbovar7lf8p5sgddm06cgipa2rxpe.json'>https://ibm.box.com/shared/static/fbpwbovar7lf8p5sgddm06cgipa2rxpe.json</a>. The json file has the data related to all neighborhoods in the city of New York.\n",
    "\n",
    "This solution focuses on neighborhoods in Manhattan and Brooklyn to identify the suitable location. We explore the neighborhoods using Foursquare API to find the avenues within 500 meters of each neighborhood. The Foursquare API that will be used to explore the neighborhoods is https://api.foursquare.com/v2/venues/explore. An example of the API call is https://api.foursquare.com/v2/venues/explore?&client_id=XXXXX&client_secret=XXXX&v=20180605&ll=40.87655077879964,-73.91065965862981&radius=500&limit=10. This API returns json response which will be transformed into a dataframe, taking only the required details into consideration."
   ]
  },
  {
   "cell_type": "markdown",
   "metadata": {},
   "source": [
    "# Methodology\n",
    "\n",
    "The json data is converted to a pandas dataframe. The data is cleaned to have only the required data in the dataframe. The dataframe has the details of the Boroughs, Neighborhoods, Latitudes, and Longitudes details of the neighborhoods in the city of Newyork.\n",
    "\n",
    "In this solution we will be focusing on Manahattan and Brooklyn to find the best location to open an Asian restaurant. So, the neighborhoods dataframe is further refined to form 2 dataframes one each for Manhattan and Brooklyn neighborhoods.\n",
    "\n",
    "Geopy library is used to get the latitude and longitude of Manhattan and Brooklyn. Folium is used to visualize the neighborhoods in Manhattan and Brooklyn.\n",
    "\n",
    "Foursquare API is used to explore the neighborhoods in Manhattan and Brooklyn. The venues in the neighborhoods are further worked on to get a count of restaurants in each neighborhood. From the list of restaurants, we arrive at the count of Asian restaurants in each neighborhood.\n",
    "\n",
    "Manhattan and Brooklyn are compared based on the total number of restaurants and Asian restaurants located in them, to choose the better Borough among the two.\n",
    "\n",
    "Once the Borough has been finalized, we further explore each of the neighborhoods in it to finalize two neighborhoods as potential location to open an Asian restaurant.\n",
    "\n",
    "To finalize the neighborhoods we look into the following:\n",
    "1. We compare the total count of restaurants and Asian restaurants in the neighborhoods.\n",
    "2. We look at the top 5 common venues in the neighborhoods.\n",
    "3. We run K-means clustering on the neighborhoods to split them into clusters.\n",
    "4. We analyze the clusters and validate our location suggestion using the cluster in which the neighborhood falls into\n"
   ]
  },
  {
   "cell_type": "markdown",
   "metadata": {},
   "source": [
    "# Results\n",
    "\n",
    "1. Manhattan has more venues than Brooklyn\n",
    "2. Manhattan has more restaurants than Brooklyn\n",
    "3. Manhattan has fewer Asian restaurants than Brooklyn (We choose Manhattan as the preferred Borough based on results 2 & 3)\n",
    "4. In Manhattan Greenwich Village has the most number of restaurants and Chinatown stands next\n",
    "5. Greenwich Village has no Asian restaurants, whereas Chinatown has 2 of them\n",
    "6. Both Greenwich Village and Chinatown have restaurants as the 4 out of 5 most common venues in the neighborhood. But, the restaurants in Chinatown appear to be those serving cuisines which overlap with Asian cuisine. Whereas, the restaurants in Greenwich Village as more spread out in terms of the cuisine they offer\n",
    "7.Greenwich Village falls in cluster 0 when we do K-means clustering. The neighborhoods in cluster 0  predominantly have eatery joints as the top 10 common venues."
   ]
  },
  {
   "cell_type": "markdown",
   "metadata": {},
   "source": [
    "# Discussion\n",
    "\n",
    "Manhattan has more venues than Brooklyn, even though it has less neighborhoods than Brooklyn. This implies that Manhattan has more commercial activity than Brooklyn. Furthermore, Manhattan has more restaurants than Brooklyn, but fewer Asian restaurants than Brooklyn. This tilts the scale in favor of Manhattan to open a new Asian restaurant as there are fewer options available in it for Asian cuisine.\n",
    "\n",
    "In Manhattan, Greenwich village has the most number of restaurants followed by Chinatown. In general, more number of restaurants implies that there is good demand for restaurants in that locality.\n",
    "\n",
    "Both Greenwich Village and Chinatown have restaurants as the 4 out of 5 most common venues in the neighborhood. But, the restaurants in Chinatown appear to be those serving cuisines that overlap with Asian cuisine. Whereas, the restaurants in Greenwich Village as more spread out in terms of the cuisine they offer. \n",
    "\n",
    "Further, Chinatown already has 2 Asian restaurants whereas Greenwich Village doesn't have any. So, an Asian restaurant would be a good addition to the restaurants available in it.\n",
    "\n",
    "Greenwich Village falls in cluster 0 when we do K-means clustering. The neighborhoods in cluster 0 predominantly have eatery joints as the top 10 common venues. This further strengths the case of Greenwich as a good option to open an Asian restaurant.\n",
    "\n",
    "The added advantage for Greenwich village is it is in close proximity of affluent neighborhoods such as Soho and Tribeca. So, it is quite possible that people of these affluent neighborhoods would visit a restaurant that serves a new cuisine in a nearby locality.\n"
   ]
  },
  {
   "cell_type": "markdown",
   "metadata": {},
   "source": [
    "# Conclusion\n",
    "\n",
    "Based on the findings, we can conclude that Greenwich village is the best neighborhood to start an Asian Restaurants among the neighborhoods of Manhattan and Brooklyn. The major factors that worked in favor of Greenwich Village are the absence of Asian restaurants in it even though it has the most number of restaurants in Manhattan, wide spread of the cuisines offered by the restaurants located in it, and it's close proximity to affluent neighborhoods."
   ]
  },
  {
   "cell_type": "code",
   "execution_count": null,
   "metadata": {},
   "outputs": [],
   "source": []
  }
 ],
 "metadata": {
  "kernelspec": {
   "display_name": "Python 3",
   "language": "python",
   "name": "python3"
  },
  "language_info": {
   "codemirror_mode": {
    "name": "ipython",
    "version": 3
   },
   "file_extension": ".py",
   "mimetype": "text/x-python",
   "name": "python",
   "nbconvert_exporter": "python",
   "pygments_lexer": "ipython3",
   "version": "3.6.5"
  }
 },
 "nbformat": 4,
 "nbformat_minor": 2
}
