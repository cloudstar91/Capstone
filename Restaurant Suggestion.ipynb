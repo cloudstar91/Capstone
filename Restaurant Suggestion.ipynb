{
 "cells": [
  {
   "cell_type": "markdown",
   "metadata": {},
   "source": [
    "# Introduction\n",
    "Every city has a lot of restaurants, but still there is always scope for new ones. Selecting the best suitable location is the most important factor for a restaurant to flourish. It should be set up in a location that has the target population and has other advantages such as litle or no competion. \n",
    "\n",
    "This solution will be helpful for anyone looking to open an Asian cusine restaurant in the city of Newyok. The objective of the solution is to find a location that suits the below criteria.\n",
    "\n",
    "1. A location that has more number of restaurants as that implies a good demand for restaurants. \n",
    "2. A location that has no or few Asian cusine restaurants, as this will ensure that there is no incumbent player or very little competition."
   ]
  },
  {
   "cell_type": "markdown",
   "metadata": {},
   "source": [
    "# Data\n",
    "\n",
    "The data that will be used in this solution is from a json file available at <a href='https://ibm.box.com/shared/static/fbpwbovar7lf8p5sgddm06cgipa2rxpe.json'>https://ibm.box.com/shared/static/fbpwbovar7lf8p5sgddm06cgipa2rxpe.json</a>. The json file has the data related to all neighborhoods in the city of NewYork.\n",
    "\n",
    "We will take the Borough, Neighborhood, Latitude, and Longitude details of the neighborhoods and convert the data into a dataframe. This solution focuses on neighborhoods in Manhattan and Brooklyn to identify the suitable location.\n",
    "\n",
    "We explore the neighborhoods using Foursquare API to find the avenues within 500 meters of each neighborhood. The Foursquare API that will be used to explore the neighborhoods is https://api.foursquare.com/v2/venues/explore. An example of the API call is https://api.foursquare.com/v2/venues/explore?&client_id=XXXXX&client_secret=XXXX&v=20180605&ll=40.87655077879964,-73.91065965862981&radius=500&limit=10. This API returns json response which will be transformed into a dataframe, taking only the required details into consideration."
   ]
  },
  {
   "cell_type": "code",
   "execution_count": null,
   "metadata": {},
   "outputs": [],
   "source": []
  }
 ],
 "metadata": {
  "kernelspec": {
   "display_name": "Python 3",
   "language": "python",
   "name": "python3"
  },
  "language_info": {
   "codemirror_mode": {
    "name": "ipython",
    "version": 3
   },
   "file_extension": ".py",
   "mimetype": "text/x-python",
   "name": "python",
   "nbconvert_exporter": "python",
   "pygments_lexer": "ipython3",
   "version": "3.6.5"
  }
 },
 "nbformat": 4,
 "nbformat_minor": 2
}
